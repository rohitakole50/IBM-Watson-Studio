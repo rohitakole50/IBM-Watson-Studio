{
    "nbformat_minor": 1, 
    "cells": [
        {
            "source": "# My Jupyter Notebook on IBM Data Science Experience", 
            "cell_type": "markdown", 
            "metadata": {
                "collapsed": true
            }
        }, 
        {
            "source": "**Name: ROHIT AKOLE**  \nI want to be an Data Scientist. I graduated in MS in Technology Management (IT and BigData).", 
            "cell_type": "markdown", 
            "metadata": {}
        }, 
        {
            "source": "_I'm interested in Data Science because I like to play with the data and statistics. I get excited when it comes to play with numbers and coding. Since my childhood, I have been doing small experiments on the coding languages like Java, C++, VB .Net, etc. I have created, manipulated data using MS Access, SQL, and so on. Hence, I chose this field of interest._", 
            "cell_type": "markdown", 
            "metadata": {}
        }, 
        {
            "source": "### Following code will store the answer to, an mathematical equation of values stored in x and y, in z and print it", 
            "cell_type": "markdown", 
            "metadata": {}
        }, 
        {
            "execution_count": 1, 
            "cell_type": "code", 
            "metadata": {}, 
            "outputs": [
                {
                    "output_type": "stream", 
                    "name": "stdout", 
                    "text": "Answer to the multiplication of x and y is =  560\n"
                }
            ], 
            "source": "x = 20\ny = 28\nz = x * y\nprint('Answer to the multiplication of x and y is = ', z)"
        }, 
        {
            "source": "#### The above code multiplied x = 15 and y = 23.  \n**(horizontal rule)**\n\n---\n\n#### The answer to \n`z = x * y` **(Code/ Syntax Highlighting)**\n#### this code is 345\n**(horizontal rule)**\n\n***\n\n##### The above code demonstrates following: \n**(bullets)**\n- The code is written in Python.\n- It gives an accurate answer.\n- we can change values of variables and it will give an accurate answer each time.\n\n**(horizontal rule)**\n\n---\n\n#### I tested multiplication function using the above code using following values:\n**(table)**\n\n|x|y|z|\n|---|---|---|\n|15|23|**345**|\n|20|28|**560**|", 
            "cell_type": "markdown", 
            "metadata": {}
        }, 
        {
            "execution_count": null, 
            "cell_type": "code", 
            "metadata": {}, 
            "outputs": [], 
            "source": ""
        }, 
        {
            "execution_count": null, 
            "cell_type": "code", 
            "metadata": {}, 
            "outputs": [], 
            "source": ""
        }, 
        {
            "execution_count": null, 
            "cell_type": "code", 
            "metadata": {}, 
            "outputs": [], 
            "source": ""
        }
    ], 
    "metadata": {
        "kernelspec": {
            "display_name": "Python 3.6", 
            "name": "python3", 
            "language": "python"
        }, 
        "language_info": {
            "mimetype": "text/x-python", 
            "nbconvert_exporter": "python", 
            "version": "3.6.8", 
            "name": "python", 
            "file_extension": ".py", 
            "pygments_lexer": "ipython3", 
            "codemirror_mode": {
                "version": 3, 
                "name": "ipython"
            }
        }
    }, 
    "nbformat": 4
}